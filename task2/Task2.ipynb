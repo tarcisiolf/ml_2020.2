{
 "cells": [
  {
   "cell_type": "code",
   "execution_count": 14,
   "id": "c9ff5c77",
   "metadata": {},
   "outputs": [],
   "source": [
    "import pandas as pd\n",
    "import numpy as np\n",
    "from sklearn import tree\n",
    "from sklearn.neighbors import KNeighborsClassifier\n",
    "from sklearn import svm\n",
    "from sklearn.neural_network import MLPClassifier\n",
    "from sklearn.model_selection import KFold\n",
    "from sklearn.metrics import accuracy_score\n",
    "from sklearn.metrics import classification_report\n",
    "import requests"
   ]
  },
  {
   "cell_type": "code",
   "execution_count": 25,
   "id": "5cbb6a1f",
   "metadata": {},
   "outputs": [
    {
     "name": "stdout",
     "output_type": "stream",
     "text": [
      "\n",
      " - Lendo o arquivo com o dataset sobre abalone\n",
      "     sex  length  diameter  height  whole_weight  shucked_weight  \\\n",
      "0      M   0.535     0.420   0.150        0.6995          0.2575   \n",
      "1      I   0.510     0.380   0.115        0.5155          0.2150   \n",
      "2      I   0.185     0.130   0.045        0.0290          0.0120   \n",
      "3      M   0.550     0.450   0.170        0.8100          0.3170   \n",
      "4      I   0.535     0.415   0.150        0.5765          0.3595   \n",
      "...   ..     ...       ...     ...           ...             ...   \n",
      "3127   F   0.545     0.405   0.175        0.9800          0.2585   \n",
      "3128   M   0.655     0.525   0.185        1.2590          0.4870   \n",
      "3129   I   0.450     0.340   0.120        0.4925          0.2410   \n",
      "3130   F   0.520     0.410   0.155        0.7270          0.2910   \n",
      "3131   F   0.640     0.480   0.195        1.1435          0.4915   \n",
      "\n",
      "      viscera_weight  shell_weight  type  \n",
      "0             0.1530        0.2400     3  \n",
      "1             0.1135        0.1660     1  \n",
      "2             0.0075        0.0095     1  \n",
      "3             0.1570        0.2200     3  \n",
      "4             0.1350        0.2250     1  \n",
      "...              ...           ...   ...  \n",
      "3127          0.2070        0.3800     3  \n",
      "3128          0.2215        0.4450     3  \n",
      "3129          0.1075        0.1200     1  \n",
      "3130          0.1835        0.2350     3  \n",
      "3131          0.2345        0.3530     2  \n",
      "\n",
      "[3132 rows x 9 columns]\n"
     ]
    }
   ],
   "source": [
    "print('\\n - Lendo o arquivo com o dataset sobre abalone')\n",
    "data = pd.read_csv('abalone_dataset.csv')\n",
    "print(data)"
   ]
  },
  {
   "cell_type": "code",
   "execution_count": 26,
   "id": "d74bab0a",
   "metadata": {},
   "outputs": [
    {
     "name": "stdout",
     "output_type": "stream",
     "text": [
      "      sex  length  diameter  height  whole_weight  shucked_weight  \\\n",
      "0       0   0.535     0.420   0.150        0.6995          0.2575   \n",
      "1       2   0.510     0.380   0.115        0.5155          0.2150   \n",
      "2       2   0.185     0.130   0.045        0.0290          0.0120   \n",
      "3       0   0.550     0.450   0.170        0.8100          0.3170   \n",
      "4       2   0.535     0.415   0.150        0.5765          0.3595   \n",
      "...   ...     ...       ...     ...           ...             ...   \n",
      "3127    1   0.545     0.405   0.175        0.9800          0.2585   \n",
      "3128    0   0.655     0.525   0.185        1.2590          0.4870   \n",
      "3129    2   0.450     0.340   0.120        0.4925          0.2410   \n",
      "3130    1   0.520     0.410   0.155        0.7270          0.2910   \n",
      "3131    1   0.640     0.480   0.195        1.1435          0.4915   \n",
      "\n",
      "      viscera_weight  shell_weight  typ  \n",
      "0             0.1530        0.2400    3  \n",
      "1             0.1135        0.1660    1  \n",
      "2             0.0075        0.0095    1  \n",
      "3             0.1570        0.2200    3  \n",
      "4             0.1350        0.2250    1  \n",
      "...              ...           ...  ...  \n",
      "3127          0.2070        0.3800    3  \n",
      "3128          0.2215        0.4450    3  \n",
      "3129          0.1075        0.1200    1  \n",
      "3130          0.1835        0.2350    3  \n",
      "3131          0.2345        0.3530    2  \n",
      "\n",
      "[3132 rows x 9 columns]\n"
     ]
    }
   ],
   "source": [
    "# Mudando a coluna \"sex\" de variavel categorica para variavel continua\n",
    "# Sexo masculino - valor 0\n",
    "# Sexo feminino - valor 1\n",
    "# Sexo infantil - valor 2\n",
    "data[\"sex\"].replace({\"M\": 0, \"F\": 1, \"I\": 2}, inplace=True)\n",
    "data[\"sex\"].astype(int)\n",
    "# Renomeando a coluna \"type\" para typ, pois \"type\" he uma palavra\n",
    "# reservada do python\n",
    "data.rename(columns={'type': 'typ'}, inplace=True)\n",
    "print(data)"
   ]
  },
  {
   "cell_type": "code",
   "execution_count": 27,
   "id": "9d2bc9d6",
   "metadata": {},
   "outputs": [
    {
     "name": "stdout",
     "output_type": "stream",
     "text": [
      "      sex    length  diameter    height  whole_weight  shucked_weight  \\\n",
      "0       0  0.621622  0.613445  0.291262      0.247034        0.172495   \n",
      "1       2  0.587838  0.546218  0.223301      0.181866        0.143914   \n",
      "2       2  0.148649  0.126050  0.087379      0.009563        0.007397   \n",
      "3       0  0.641892  0.663866  0.330097      0.286170        0.212508   \n",
      "4       2  0.621622  0.605042  0.291262      0.203471        0.241089   \n",
      "...   ...       ...       ...       ...           ...             ...   \n",
      "3127    1  0.635135  0.588235  0.339806      0.346379        0.173167   \n",
      "3128    0  0.783784  0.789916  0.359223      0.445192        0.326833   \n",
      "3129    2  0.506757  0.478992  0.233010      0.173721        0.161399   \n",
      "3130    1  0.601351  0.596639  0.300971      0.256774        0.195024   \n",
      "3131    1  0.763514  0.714286  0.378641      0.404285        0.329859   \n",
      "\n",
      "      viscera_weight  shell_weight  typ  \n",
      "0           0.200790      0.237668    3  \n",
      "1           0.148782      0.163926    1  \n",
      "2           0.009217      0.007972    1  \n",
      "3           0.206057      0.217738    3  \n",
      "4           0.177090      0.222720    1  \n",
      "...              ...           ...  ...  \n",
      "3127        0.271889      0.377180    3  \n",
      "3128        0.290981      0.441953    3  \n",
      "3129        0.140882      0.118087    1  \n",
      "3130        0.240948      0.232686    3  \n",
      "3131        0.308097      0.350274    2  \n",
      "\n",
      "[3132 rows x 9 columns]\n"
     ]
    }
   ],
   "source": [
    "# Normalizando os dados\n",
    "cols_to_norm = ['length', 'diameter', 'height', 'whole_weight', 'shucked_weight', \n",
    "                'viscera_weight', 'shell_weight']\n",
    "data[cols_to_norm] = data[cols_to_norm].apply(lambda x: (x - x.min()) / (x.max() - x.min()))\n",
    "print(data)"
   ]
  },
  {
   "cell_type": "code",
   "execution_count": 28,
   "id": "e49662f8",
   "metadata": {},
   "outputs": [
    {
     "name": "stdout",
     "output_type": "stream",
     "text": [
      " - Criando X e y para o algoritmo de aprendizagem a partir do arquivo abalone_dataset\n",
      " - Criando modelo preditivo\n"
     ]
    }
   ],
   "source": [
    "print(' - Criando X e y para o algoritmo de aprendizagem a partir do arquivo abalone_dataset')\n",
    "# Caso queira modificar as colunas consideradas basta alterar o array a seguir.\n",
    "feature_cols = ['sex', 'length', 'diameter', 'height', \n",
    "                'whole_weight', 'shucked_weight', 'viscera_weight', 'shell_weight']\n",
    "X = data[feature_cols]\n",
    "y = data.typ\n",
    "\n",
    "# Criando o modelo preditivo do k-NN para a base trabalhada\n",
    "print(' - Criando modelo preditivo')\n",
    "neigh = KNeighborsClassifier(n_neighbors=15)\n",
    "neigh.fit(X, y)\n",
    "\n",
    "# Dataset to numpy array\n",
    "arr_X = X.to_numpy()\n",
    "arr_y = y.to_numpy()"
   ]
  },
  {
   "cell_type": "code",
   "execution_count": 29,
   "id": "4473ec9e",
   "metadata": {
    "scrolled": true
   },
   "outputs": [
    {
     "name": "stdout",
     "output_type": "stream",
     "text": [
      "Fold 1 results: \n",
      "Classification Report:\n",
      "              precision    recall  f1-score   support\n",
      "\n",
      "           1       0.82      0.74      0.78       383\n",
      "           2       0.47      0.62      0.53       312\n",
      "           3       0.71      0.58      0.64       349\n",
      "\n",
      "    accuracy                           0.65      1044\n",
      "   macro avg       0.67      0.65      0.65      1044\n",
      "weighted avg       0.68      0.65      0.66      1044\n",
      "\n",
      "Fold 2 results: \n",
      "Classification Report:\n",
      "              precision    recall  f1-score   support\n",
      "\n",
      "           1       0.71      0.76      0.74       356\n",
      "           2       0.50      0.53      0.51       345\n",
      "           3       0.68      0.58      0.63       343\n",
      "\n",
      "    accuracy                           0.63      1044\n",
      "   macro avg       0.63      0.62      0.63      1044\n",
      "weighted avg       0.63      0.63      0.63      1044\n",
      "\n",
      "Fold 3 results: \n",
      "Classification Report:\n",
      "              precision    recall  f1-score   support\n",
      "\n",
      "           1       0.69      0.76      0.72       339\n",
      "           2       0.49      0.51      0.50       346\n",
      "           3       0.67      0.58      0.62       359\n",
      "\n",
      "    accuracy                           0.61      1044\n",
      "   macro avg       0.62      0.62      0.61      1044\n",
      "weighted avg       0.62      0.61      0.61      1044\n",
      "\n"
     ]
    }
   ],
   "source": [
    "# Utilizando o k-fold cross validation para avaliar o modelo gerado\n",
    "# pelo k-NN\n",
    "n_folds = 3\n",
    "kf = KFold(n_splits=n_folds, shuffle=True)\n",
    "\n",
    "fold = 1\n",
    "for train_index, test_index in kf.split(arr_X, arr_y):\n",
    "    x_train_fold, x_test_fold = arr_X[train_index], arr_X[test_index]\n",
    "    y_train_fold, y_test_fold = arr_y[train_index], arr_y[test_index]\n",
    "    neigh.fit(x_train_fold, y_train_fold)\n",
    "    predictions = neigh.predict(x_test_fold)\n",
    "    print(\"Fold\", fold,\"results: \")\n",
    "    print(\"Classification Report:\")\n",
    "    print(classification_report(y_test_fold,predictions))\n",
    "    fold = fold + 1\n",
    "  "
   ]
  },
  {
   "cell_type": "code",
   "execution_count": 30,
   "id": "91c1f558",
   "metadata": {},
   "outputs": [
    {
     "name": "stdout",
     "output_type": "stream",
     "text": [
      "Fold 1 results: \n",
      "Classification Report:\n",
      "              precision    recall  f1-score   support\n",
      "\n",
      "           1       0.78      0.73      0.75       369\n",
      "           2       0.49      0.48      0.49       334\n",
      "           3       0.64      0.70      0.67       341\n",
      "\n",
      "    accuracy                           0.64      1044\n",
      "   macro avg       0.64      0.64      0.64      1044\n",
      "weighted avg       0.64      0.64      0.64      1044\n",
      "\n",
      "Fold 2 results: \n",
      "Classification Report:\n",
      "              precision    recall  f1-score   support\n",
      "\n",
      "           1       0.75      0.70      0.72       340\n",
      "           2       0.48      0.57      0.52       348\n",
      "           3       0.68      0.59      0.63       356\n",
      "\n",
      "    accuracy                           0.62      1044\n",
      "   macro avg       0.63      0.62      0.62      1044\n",
      "weighted avg       0.63      0.62      0.62      1044\n",
      "\n",
      "Fold 3 results: \n",
      "Classification Report:\n",
      "              precision    recall  f1-score   support\n",
      "\n",
      "           1       0.78      0.69      0.73       369\n",
      "           2       0.43      0.46      0.45       321\n",
      "           3       0.60      0.64      0.62       354\n",
      "\n",
      "    accuracy                           0.60      1044\n",
      "   macro avg       0.61      0.60      0.60      1044\n",
      "weighted avg       0.61      0.60      0.61      1044\n",
      "\n"
     ]
    }
   ],
   "source": [
    "# Utilizando o algoritmo SVM para gerar o modelo\n",
    "# e avalinado com o k-fold cross validation \n",
    "clf = svm.SVC(decision_function_shape='ovo')\n",
    "\n",
    "fold = 1\n",
    "for train_index, test_index in kf.split(arr_X, arr_y):\n",
    "    x_train_fold, x_test_fold = arr_X[train_index], arr_X[test_index]\n",
    "    y_train_fold, y_test_fold = arr_y[train_index], arr_y[test_index]\n",
    "    clf.fit(x_train_fold, y_train_fold)\n",
    "    predictions = clf.predict(x_test_fold)\n",
    "    print(\"Fold\", fold,\"results: \")\n",
    "    print(\"Classification Report:\")\n",
    "    print(classification_report(y_test_fold,predictions))\n",
    "    fold = fold + 1\n",
    "\n"
   ]
  },
  {
   "cell_type": "code",
   "execution_count": 31,
   "id": "7fae24eb",
   "metadata": {},
   "outputs": [
    {
     "name": "stdout",
     "output_type": "stream",
     "text": [
      "Fold 1 results: \n",
      "Classification Report:\n",
      "              precision    recall  f1-score   support\n",
      "\n",
      "           1       0.75      0.76      0.75       374\n",
      "           2       0.50      0.52      0.51       337\n",
      "           3       0.65      0.61      0.63       333\n",
      "\n",
      "    accuracy                           0.63      1044\n",
      "   macro avg       0.63      0.63      0.63      1044\n",
      "weighted avg       0.63      0.63      0.63      1044\n",
      "\n",
      "Fold 2 results: \n",
      "Classification Report:\n",
      "              precision    recall  f1-score   support\n",
      "\n",
      "           1       0.70      0.80      0.75       353\n",
      "           2       0.50      0.57      0.53       322\n",
      "           3       0.73      0.54      0.62       369\n",
      "\n",
      "    accuracy                           0.64      1044\n",
      "   macro avg       0.64      0.64      0.63      1044\n",
      "weighted avg       0.65      0.64      0.63      1044\n",
      "\n",
      "Fold 3 results: \n",
      "Classification Report:\n",
      "              precision    recall  f1-score   support\n",
      "\n",
      "           1       0.69      0.76      0.72       351\n",
      "           2       0.49      0.51      0.50       344\n",
      "           3       0.70      0.60      0.65       349\n",
      "\n",
      "    accuracy                           0.62      1044\n",
      "   macro avg       0.63      0.62      0.62      1044\n",
      "weighted avg       0.63      0.62      0.62      1044\n",
      "\n"
     ]
    }
   ],
   "source": [
    "# Utilizando o algoritmo SVM para gerar o modelo\n",
    "# e avalinado com o k-fold cross validation \n",
    "C = 1.0\n",
    "clf2 = svm.SVC(kernel='linear', C=C)\n",
    "\n",
    "fold = 1\n",
    "for train_index, test_index in kf.split(arr_X, arr_y):\n",
    "    x_train_fold, x_test_fold = arr_X[train_index], arr_X[test_index]\n",
    "    y_train_fold, y_test_fold = arr_y[train_index], arr_y[test_index]\n",
    "    clf2.fit(x_train_fold, y_train_fold)\n",
    "    predictions = clf2.predict(x_test_fold)\n",
    "    print(\"Fold\", fold,\"results: \")\n",
    "    print(\"Classification Report:\")\n",
    "    print(classification_report(y_test_fold,predictions))\n",
    "    fold = fold + 1"
   ]
  },
  {
   "cell_type": "code",
   "execution_count": 32,
   "id": "db00e9c2",
   "metadata": {},
   "outputs": [
    {
     "name": "stdout",
     "output_type": "stream",
     "text": [
      "Fold 1 results: \n",
      "Classification Report:\n",
      "              precision    recall  f1-score   support\n",
      "\n",
      "           1       0.79      0.71      0.75       358\n",
      "           2       0.48      0.60      0.53       329\n",
      "           3       0.71      0.62      0.66       357\n",
      "\n",
      "    accuracy                           0.64      1044\n",
      "   macro avg       0.66      0.64      0.65      1044\n",
      "weighted avg       0.66      0.64      0.65      1044\n",
      "\n",
      "Fold 2 results: \n",
      "Classification Report:\n",
      "              precision    recall  f1-score   support\n",
      "\n",
      "           1       0.77      0.68      0.72       372\n",
      "           2       0.45      0.43      0.44       345\n",
      "           3       0.54      0.64      0.59       327\n",
      "\n",
      "    accuracy                           0.59      1044\n",
      "   macro avg       0.59      0.58      0.58      1044\n",
      "weighted avg       0.59      0.59      0.59      1044\n",
      "\n",
      "Fold 3 results: \n",
      "Classification Report:\n",
      "              precision    recall  f1-score   support\n",
      "\n",
      "           1       0.74      0.71      0.72       348\n",
      "           2       0.47      0.49      0.48       329\n",
      "           3       0.66      0.66      0.66       367\n",
      "\n",
      "    accuracy                           0.62      1044\n",
      "   macro avg       0.62      0.62      0.62      1044\n",
      "weighted avg       0.63      0.62      0.63      1044\n",
      "\n"
     ]
    }
   ],
   "source": [
    "## Utilizando o algoritmo SVM para gerar o modelo\n",
    "# e avalinado com o k-fold cross validation \n",
    "C = 1.0\n",
    "clf3 = svm.SVC(kernel='rbf', gamma=0.7, C=C)\n",
    "\n",
    "fold = 1\n",
    "for train_index, test_index in kf.split(arr_X, arr_y):\n",
    "    x_train_fold, x_test_fold = arr_X[train_index], arr_X[test_index]\n",
    "    y_train_fold, y_test_fold = arr_y[train_index], arr_y[test_index]\n",
    "    clf3.fit(x_train_fold, y_train_fold)\n",
    "    predictions = clf3.predict(x_test_fold)\n",
    "    print(\"Fold\", fold,\"results: \")\n",
    "    print(\"Classification Report:\")\n",
    "    print(classification_report(y_test_fold,predictions))\n",
    "    fold = fold + 1"
   ]
  },
  {
   "cell_type": "code",
   "execution_count": 18,
   "id": "aaf10db8",
   "metadata": {},
   "outputs": [
    {
     "name": "stdout",
     "output_type": "stream",
     "text": [
      "Fold 1 results: \n",
      "Classification Report:\n",
      "              precision    recall  f1-score   support\n",
      "\n",
      "           1       0.72      0.80      0.76       369\n",
      "           2       0.50      0.42      0.46       342\n",
      "           3       0.63      0.66      0.64       333\n",
      "\n",
      "    accuracy                           0.63      1044\n",
      "   macro avg       0.62      0.63      0.62      1044\n",
      "weighted avg       0.62      0.63      0.62      1044\n",
      "\n",
      "Fold 2 results: \n",
      "Classification Report:\n",
      "              precision    recall  f1-score   support\n",
      "\n",
      "           1       0.68      0.81      0.74       356\n",
      "           2       0.50      0.45      0.47       316\n",
      "           3       0.70      0.64      0.67       372\n",
      "\n",
      "    accuracy                           0.64      1044\n",
      "   macro avg       0.63      0.63      0.63      1044\n",
      "weighted avg       0.63      0.64      0.63      1044\n",
      "\n",
      "Fold 3 results: \n",
      "Classification Report:\n",
      "              precision    recall  f1-score   support\n",
      "\n",
      "           1       0.66      0.79      0.72       353\n",
      "           2       0.60      0.43      0.50       345\n",
      "           3       0.68      0.73      0.70       346\n",
      "\n",
      "    accuracy                           0.65      1044\n",
      "   macro avg       0.65      0.65      0.64      1044\n",
      "weighted avg       0.65      0.65      0.64      1044\n",
      "\n"
     ]
    }
   ],
   "source": [
    "## Utilizando o algoritmo SVM para gerar o modelo\n",
    "# e avalinado com o k-fold cross validation \n",
    "clf4 = svm.LinearSVC(C=C, max_iter=10000)\n",
    "\n",
    "fold = 1\n",
    "for train_index, test_index in kf.split(arr_X, arr_y):\n",
    "    x_train_fold, x_test_fold = arr_X[train_index], arr_X[test_index]\n",
    "    y_train_fold, y_test_fold = arr_y[train_index], arr_y[test_index]\n",
    "    clf4.fit(x_train_fold, y_train_fold)\n",
    "    predictions = clf4.predict(x_test_fold)\n",
    "    print(\"Fold\", fold,\"results: \")\n",
    "    print(\"Classification Report:\")\n",
    "    print(classification_report(y_test_fold,predictions))\n",
    "    fold = fold + 1"
   ]
  },
  {
   "cell_type": "code",
   "execution_count": 19,
   "id": "d8b7fccf",
   "metadata": {},
   "outputs": [
    {
     "name": "stdout",
     "output_type": "stream",
     "text": [
      "Fold 1 results: \n",
      "Classification Report:\n",
      "              precision    recall  f1-score   support\n",
      "\n",
      "           1       0.73      0.81      0.77       345\n",
      "           2       0.56      0.51      0.53       359\n",
      "           3       0.66      0.64      0.65       340\n",
      "\n",
      "    accuracy                           0.65      1044\n",
      "   macro avg       0.65      0.65      0.65      1044\n",
      "weighted avg       0.65      0.65      0.65      1044\n",
      "\n",
      "Fold 2 results: \n",
      "Classification Report:\n",
      "              precision    recall  f1-score   support\n",
      "\n",
      "           1       0.78      0.69      0.73       360\n",
      "           2       0.48      0.54      0.51       324\n",
      "           3       0.71      0.70      0.70       360\n",
      "\n",
      "    accuracy                           0.65      1044\n",
      "   macro avg       0.65      0.64      0.65      1044\n",
      "weighted avg       0.66      0.65      0.65      1044\n",
      "\n",
      "Fold 3 results: \n",
      "Classification Report:\n",
      "              precision    recall  f1-score   support\n",
      "\n",
      "           1       0.79      0.76      0.77       373\n",
      "           2       0.54      0.53      0.53       320\n",
      "           3       0.68      0.71      0.69       351\n",
      "\n",
      "    accuracy                           0.67      1044\n",
      "   macro avg       0.67      0.67      0.67      1044\n",
      "weighted avg       0.67      0.67      0.67      1044\n",
      "\n"
     ]
    }
   ],
   "source": [
    "clf5 = MLPClassifier(solver='lbfgs', alpha=1e-5,\n",
    "                     hidden_layer_sizes=(10, 5), max_iter = 10000, random_state=1)\n",
    "\n",
    "fold = 1\n",
    "for train_index, test_index in kf.split(arr_X, arr_y):\n",
    "    x_train_fold, x_test_fold = arr_X[train_index], arr_X[test_index]\n",
    "    y_train_fold, y_test_fold = arr_y[train_index], arr_y[test_index]\n",
    "    clf5.fit(x_train_fold, y_train_fold)\n",
    "    predictions = clf5.predict(x_test_fold)\n",
    "    print(\"Fold\", fold,\"results: \")\n",
    "    print(\"Classification Report:\")\n",
    "    print(classification_report(y_test_fold,predictions))\n",
    "    fold = fold + 1"
   ]
  },
  {
   "cell_type": "code",
   "execution_count": 73,
   "id": "ccc1e238",
   "metadata": {},
   "outputs": [
    {
     "name": "stdout",
     "output_type": "stream",
     "text": [
      " - Aplicando modelo e enviando para o servidor\n",
      "[3 2 3 ... 2 1 2]\n"
     ]
    }
   ],
   "source": [
    "# Teste com k-NN\n",
    "# Mudando a coluna \"sex\" de variavel categorica para variavel continua\n",
    "# Sexo masculino - valor 0\n",
    "# Sexo feminino - valor 1\n",
    "# Sexo infantil - valor 2\n",
    "data_app[\"sex\"].replace({\"M\": 0, \"F\": 1, \"I\": 2}, inplace=True)\n",
    "data_app[\"sex\"].astype(int)\n",
    "\n",
    "# Normalizando os dados\n",
    "data_app[cols_to_norm] = data_app[cols_to_norm].apply(lambda x: (x - x.min()) / (x.max() - x.min()))\n",
    "\n",
    "#realizando previsões com o arquivo de teste\n",
    "print(' - Aplicando modelo e enviando para o servidor')\n",
    "\n",
    "data_app = data_app[feature_cols]\n",
    "y_pred = neigh.predict(data_app)\n",
    "\n",
    "print(y_pred)"
   ]
  },
  {
   "cell_type": "code",
   "execution_count": 74,
   "id": "4b5df4fa",
   "metadata": {},
   "outputs": [
    {
     "name": "stdout",
     "output_type": "stream",
     "text": [
      " - Resposta do servidor:\n",
      " {\"status\":\"success\",\"dev_key\":\"MLTL\",\"accuracy\":0.5741626794258373,\"old_accuracy\":0} \n",
      "\n"
     ]
    }
   ],
   "source": [
    "# Enviando previsões realizadas com o modelo para o servidor\n",
    "URL = \"https://aydanomachado.com/mlclass/03_Validation.php\"\n",
    "\n",
    "#TODO Substituir pela sua chave aqui\n",
    "DEV_KEY = \"MLTL\"\n",
    "\n",
    "# json para ser enviado para o servidor\n",
    "data = {'dev_key':DEV_KEY,\n",
    "        'predictions':pd.Series(y_pred).to_json(orient='values')}\n",
    "\n",
    "# Enviando requisição e salvando o objeto resposta\n",
    "r = requests.post(url = URL, data = data)\n",
    "\n",
    "# Extraindo e imprimindo o texto da resposta\n",
    "pastebin_url = r.text\n",
    "print(\" - Resposta do servidor:\\n\", r.text, \"\\n\")"
   ]
  },
  {
   "cell_type": "code",
   "execution_count": 20,
   "id": "0432d4ae",
   "metadata": {},
   "outputs": [
    {
     "name": "stdout",
     "output_type": "stream",
     "text": [
      " - Aplicando modelo e enviando para o servidor\n",
      " - Aplicando modelo e enviando para o servidor\n",
      "[3 2 3 ... 1 1 2]\n"
     ]
    }
   ],
   "source": [
    "# Teste com NN\n",
    "# Mudando a coluna \"sex\" de variavel categorica para variavel continua\n",
    "# Sexo masculino - valor 0\n",
    "# Sexo feminino - valor 1\n",
    "# Sexo infantil - valor 2\n",
    "data_app = pd.read_csv('abalone_app.csv')\n",
    "data_app[\"sex\"].replace({\"M\": 0, \"F\": 1, \"I\": 2}, inplace=True)\n",
    "data_app[\"sex\"].astype(int)\n",
    "\n",
    "# Normalizando os dados\n",
    "data_app[cols_to_norm] = data_app[cols_to_norm].apply(lambda x: (x - x.min()) / (x.max() - x.min()))\n",
    "\n",
    "#realizando previsões com o arquivo de teste\n",
    "print(' - Aplicando modelo e enviando para o servidor')\n",
    "\n",
    "data_app = data_app[feature_cols]\n",
    "y_pred = clf5.predict(data_app)\n",
    "\n",
    "print(y_pred)"
   ]
  },
  {
   "cell_type": "code",
   "execution_count": 21,
   "id": "ad31e572",
   "metadata": {},
   "outputs": [
    {
     "name": "stdout",
     "output_type": "stream",
     "text": [
      " - Resposta do servidor:\n",
      " {\"status\":\"success\",\"dev_key\":\"MLTL\",\"accuracy\":0.583732057416268,\"old_accuracy\":0.57416267942584} \n",
      "\n"
     ]
    }
   ],
   "source": [
    "# Enviando previsões realizadas com o modelo para o servidor\n",
    "URL = \"https://aydanomachado.com/mlclass/03_Validation.php\"\n",
    "\n",
    "#TODO Substituir pela sua chave aqui\n",
    "DEV_KEY = \"MLTL\"\n",
    "\n",
    "# json para ser enviado para o servidor\n",
    "data = {'dev_key':DEV_KEY,\n",
    "        'predictions':pd.Series(y_pred).to_json(orient='values')}\n",
    "\n",
    "# Enviando requisição e salvando o objeto resposta\n",
    "r = requests.post(url = URL, data = data)\n",
    "\n",
    "# Extraindo e imprimindo o texto da resposta\n",
    "pastebin_url = r.text\n",
    "print(\" - Resposta do servidor:\\n\", r.text, \"\\n\")"
   ]
  },
  {
   "cell_type": "code",
   "execution_count": 10,
   "id": "ac7cfa3f",
   "metadata": {},
   "outputs": [
    {
     "name": "stdout",
     "output_type": "stream",
     "text": [
      "Fold 1 results: \n",
      "Classification Report:\n",
      "              precision    recall  f1-score   support\n",
      "\n",
      "           1       0.65      0.70      0.67       339\n",
      "           2       0.44      0.43      0.44       353\n",
      "           3       0.60      0.56      0.58       352\n",
      "\n",
      "    accuracy                           0.56      1044\n",
      "   macro avg       0.56      0.57      0.56      1044\n",
      "weighted avg       0.56      0.56      0.56      1044\n",
      "\n",
      "Fold 2 results: \n",
      "Classification Report:\n",
      "              precision    recall  f1-score   support\n",
      "\n",
      "           1       0.71      0.70      0.70       377\n",
      "           2       0.42      0.43      0.42       324\n",
      "           3       0.58      0.58      0.58       343\n",
      "\n",
      "    accuracy                           0.58      1044\n",
      "   macro avg       0.57      0.57      0.57      1044\n",
      "weighted avg       0.58      0.58      0.58      1044\n",
      "\n",
      "Fold 3 results: \n",
      "Classification Report:\n",
      "              precision    recall  f1-score   support\n",
      "\n",
      "           1       0.72      0.66      0.69       362\n",
      "           2       0.42      0.49      0.45       326\n",
      "           3       0.57      0.54      0.55       356\n",
      "\n",
      "    accuracy                           0.57      1044\n",
      "   macro avg       0.57      0.56      0.57      1044\n",
      "weighted avg       0.58      0.57      0.57      1044\n",
      "\n"
     ]
    }
   ],
   "source": [
    "clf6 = tree.DecisionTreeClassifier()\n",
    "\n",
    "n_folds = 3\n",
    "kf = KFold(n_splits=n_folds, shuffle=True)\n",
    "fold = 1\n",
    "for train_index, test_index in kf.split(arr_X, arr_y):\n",
    "    x_train_fold, x_test_fold = arr_X[train_index], arr_X[test_index]\n",
    "    y_train_fold, y_test_fold = arr_y[train_index], arr_y[test_index]\n",
    "    clf6.fit(x_train_fold, y_train_fold)\n",
    "    predictions = clf6.predict(x_test_fold)\n",
    "    print(\"Fold\", fold,\"results: \")\n",
    "    print(\"Classification Report:\")\n",
    "    print(classification_report(y_test_fold,predictions))\n",
    "    fold = fold + 1"
   ]
  }
 ],
 "metadata": {
  "kernelspec": {
   "display_name": "Python 3 (ipykernel)",
   "language": "python",
   "name": "python3"
  },
  "language_info": {
   "codemirror_mode": {
    "name": "ipython",
    "version": 3
   },
   "file_extension": ".py",
   "mimetype": "text/x-python",
   "name": "python",
   "nbconvert_exporter": "python",
   "pygments_lexer": "ipython3",
   "version": "3.7.7"
  }
 },
 "nbformat": 4,
 "nbformat_minor": 5
}
