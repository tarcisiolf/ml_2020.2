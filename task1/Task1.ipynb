{
 "cells": [
  {
   "cell_type": "markdown",
   "id": "28ead7d5",
   "metadata": {},
   "source": [
    "\"\"\"\n",
    "Atividade para trabalhar o pré-processamento dos dados.\n",
    "\n",
    "Criação de modelo preditivo para diabetes e envio para verificação de peformance\n",
    "no servidor.\n",
    "\n",
    "@author: Aydano Machado <aydano.machado@gmail.com>\n",
    "\"\"\""
   ]
  },
  {
   "cell_type": "code",
   "execution_count": 5,
   "id": "9afd2801",
   "metadata": {},
   "outputs": [],
   "source": [
    "import pandas as pd\n",
    "from sklearn.neighbors import KNeighborsClassifier\n",
    "import requests\n",
    "import numpy as np"
   ]
  },
  {
   "cell_type": "code",
   "execution_count": 2,
   "id": "6816b9a4",
   "metadata": {},
   "outputs": [
    {
     "name": "stdout",
     "output_type": "stream",
     "text": [
      "\n",
      " - Lendo o arquivo com o dataset sobre diabetes\n"
     ]
    }
   ],
   "source": [
    "print('\\n - Lendo o arquivo com o dataset sobre diabetes')\n",
    "data = pd.read_csv('diabetes_dataset.csv')"
   ]
  },
  {
   "cell_type": "markdown",
   "id": "9619caf8",
   "metadata": {},
   "source": [
    "# Média\n",
    "## Os valores Nan foram substituídos pela média da coluna"
   ]
  },
  {
   "cell_type": "code",
   "execution_count": 3,
   "id": "279682d9",
   "metadata": {},
   "outputs": [],
   "source": [
    "def minmax_norm(df):\n",
    "    return (df - df.min()) / ( df.max() - df.min())"
   ]
  },
  {
   "cell_type": "code",
   "execution_count": 4,
   "id": "953501a0",
   "metadata": {},
   "outputs": [
    {
     "name": "stdout",
     "output_type": "stream",
     "text": [
      "     Pregnancies   Glucose  BloodPressure  SkinThickness   Insulin       BMI  \\\n",
      "0       0.352941  0.670968       0.456522       0.304348  0.193591  0.393862   \n",
      "1       0.058824  0.264516       0.391304       0.239130  0.193591  0.214834   \n",
      "2       0.470588  0.896774       0.369565       0.243006  0.193591  0.130435   \n",
      "3       0.000000  0.600000       0.108696       0.304348  0.208791  0.636829   \n",
      "4       0.294118  0.464516       0.478261       0.243006  0.193591  0.189258   \n",
      "..           ...       ...            ...            ...       ...       ...   \n",
      "567     0.529412  0.290323       0.347826       0.243006  0.193591  0.109974   \n",
      "568     0.117647  0.503226       0.434783       0.217391  0.193591  0.475703   \n",
      "569     0.294118  0.496774       0.456522       0.173913  0.131868  0.204604   \n",
      "570     0.058824  0.529032       0.326087       0.243006  0.193591  0.304348   \n",
      "571     0.058824  0.316129       0.434783       0.260870  0.193591  0.312020   \n",
      "\n",
      "     DiabetesPedigreeFunction       Age  Outcome  \n",
      "0                    0.243892  0.483333      1.0  \n",
      "1                    0.121279  0.166667      0.0  \n",
      "2                    0.263883  0.183333      1.0  \n",
      "3                    0.981786  0.200000      1.0  \n",
      "4                    0.054642  0.150000      0.0  \n",
      "..                        ...       ...      ...  \n",
      "567                  0.028432  0.200000      0.0  \n",
      "568                  0.116393  0.100000      0.0  \n",
      "569                  0.074189  0.150000      0.0  \n",
      "570                  0.120391  0.433333      1.0  \n",
      "571                  0.105287  0.033333      0.0  \n",
      "\n",
      "[572 rows x 9 columns]\n"
     ]
    }
   ],
   "source": [
    "# Substituindo os valores Nan por a média da coluna\n",
    "data = data.apply(lambda x: x.fillna(x.mean()),axis=0)\n",
    "\n",
    "# Normalizando os valores do conjunto de dados\n",
    "data = minmax_norm(data)\n",
    "\n",
    "print(data)"
   ]
  },
  {
   "cell_type": "code",
   "execution_count": 5,
   "id": "ef98f048",
   "metadata": {},
   "outputs": [
    {
     "name": "stdout",
     "output_type": "stream",
     "text": [
      " - Criando X e y para o algoritmo de aprendizagem a partir do arquivo diabetes_dataset\n",
      " - Criando modelo preditivo\n",
      " - Aplicando modelo e enviando para o servidor\n",
      " - Resposta do servidor:\n",
      " {\"status\":\"success\",\"dev_key\":\"MLTL\",\"accuracy\":0.6377551020408163,\"old_accuracy\":0.63775510204082} \n",
      "\n"
     ]
    }
   ],
   "source": [
    "# Criando X and y par ao algorítmo de aprendizagem de máquina.\\\n",
    "print(' - Criando X e y para o algoritmo de aprendizagem a partir do arquivo diabetes_dataset')\n",
    "# Caso queira modificar as colunas consideradas basta algera o array a seguir.\n",
    "feature_cols = ['Pregnancies', 'Glucose', 'BloodPressure', 'SkinThickness', \n",
    "                'Insulin', 'BMI', 'DiabetesPedigreeFunction', 'Age']\n",
    "X = data[feature_cols]\n",
    "y = data.Outcome\n",
    "\n",
    "# Ciando o modelo preditivo para a base trabalhada\n",
    "print(' - Criando modelo preditivo')\n",
    "neigh = KNeighborsClassifier(n_neighbors=3)\n",
    "neigh.fit(X, y)\n",
    "\n",
    "#realizando previsões com o arquivo de\n",
    "print(' - Aplicando modelo e enviando para o servidor')\n",
    "data_app = pd.read_csv('diabetes_app.csv')\n",
    "data_app = data_app[feature_cols]\n",
    "y_pred = neigh.predict(data_app)\n",
    "\n",
    "# Enviando previsões realizadas com o modelo para o servidor\n",
    "URL = \"https://aydanomachado.com/mlclass/01_Preprocessing.php\"\n",
    "\n",
    "#TODO Substituir pela sua chave aqui\n",
    "DEV_KEY = \"MLTL\"\n",
    "\n",
    "# json para ser enviado para o servidor\n",
    "data = {'dev_key':DEV_KEY,\n",
    "        'predictions':pd.Series(y_pred).to_json(orient='values')}\n",
    "\n",
    "# Enviando requisição e salvando o objeto resposta\n",
    "r = requests.post(url = URL, data = data)\n",
    "\n",
    "# Extraindo e imprimindo o texto da resposta\n",
    "pastebin_url = r.text\n",
    "print(\" - Resposta do servidor:\\n\", r.text, \"\\n\")"
   ]
  },
  {
   "cell_type": "markdown",
   "id": "a199b28a",
   "metadata": {
    "scrolled": true
   },
   "source": [
    "# Valores aleatórios \n",
    "## Os valores Nan foram substituídos por valores aleatórios que estão no intervalo de cada coluna"
   ]
  },
  {
   "cell_type": "code",
   "execution_count": 6,
   "id": "3372ca3e",
   "metadata": {
    "scrolled": true
   },
   "outputs": [],
   "source": [
    "# Gerar valores aleatórios entre o menor e o maior valor da coluna\n",
    "min_values = data.min()\n",
    "max_values = data.max()\n",
    "\n",
    "a1 = data['Glucose'].isnull()\n",
    "aux1 = np.random.randint(min_values['Glucose'], max_values['Glucose'], a1.sum())\n",
    "data.loc[a1, 'Glucose'] = aux1\n",
    "\n",
    "a2 = data['BloodPressure'].isnull()\n",
    "aux2 = np.random.randint(min_values['BloodPressure'], max_values['BloodPressure'], a2.sum())\n",
    "data.loc[a2, 'BloodPressure'] = aux2\n",
    "\n",
    "a3 = data['SkinThickness'].isnull()\n",
    "aux3 = np.random.randint(min_values['SkinThickness'], max_values['SkinThickness'], a3.sum())\n",
    "data.loc[a3, 'SkinThickness'] = aux3\n",
    "\n",
    "\n",
    "a4 = data['Insulin'].isnull()\n",
    "aux4 = np.random.randint(min_values['Insulin'], max_values['Insulin'], a4.sum())\n",
    "data.loc[a4, 'Insulin'] = aux4\n",
    "\n",
    "a5 = data['BMI'].isnull()\n",
    "aux5 = np.random.uniform(min_values['BMI'], max_values['BMI'], a5.sum())\n",
    "data.loc[a5, 'BMI'] = aux5\n",
    "\n",
    "#Normalizando os valores do conjunto de dados\n",
    "data = minmax_norm(data)"
   ]
  },
  {
   "cell_type": "code",
   "execution_count": 7,
   "id": "41425760",
   "metadata": {},
   "outputs": [
    {
     "name": "stdout",
     "output_type": "stream",
     "text": [
      " - Criando X e y para o algoritmo de aprendizagem a partir do arquivo diabetes_dataset\n",
      " - Criando modelo preditivo\n",
      " - Aplicando modelo e enviando para o servidor\n",
      " - Resposta do servidor:\n",
      " {\"status\":\"success\",\"dev_key\":\"MLTL\",\"accuracy\":0.45408163265306123,\"old_accuracy\":0.63775510204082} \n",
      "\n"
     ]
    }
   ],
   "source": [
    "# Criando X and y par ao algorítmo de aprendizagem de máquina.\\\n",
    "print(' - Criando X e y para o algoritmo de aprendizagem a partir do arquivo diabetes_dataset')\n",
    "# Caso queira modificar as colunas consideradas basta algera o array a seguir.\n",
    "feature_cols = ['Pregnancies', 'Glucose', 'BloodPressure', 'SkinThickness', \n",
    "                'Insulin', 'BMI', 'DiabetesPedigreeFunction', 'Age']\n",
    "X = data[feature_cols]\n",
    "y = data.Outcome\n",
    "\n",
    "# Criando o modelo preditivo para a base trabalhada\n",
    "print(' - Criando modelo preditivo')\n",
    "neigh = KNeighborsClassifier(n_neighbors=3)\n",
    "neigh.fit(X, y)\n",
    "\n",
    "# Realizando previsões com o arquivo de\n",
    "print(' - Aplicando modelo e enviando para o servidor')\n",
    "data_app = pd.read_csv('diabetes_app.csv')\n",
    "data_app = data_app[feature_cols]\n",
    "y_pred = neigh.predict(data_app)\n",
    "\n",
    "# Enviando previsões realizadas com o modelo para o servidor\n",
    "URL = \"https://aydanomachado.com/mlclass/01_Preprocessing.php\"\n",
    "\n",
    "# TODO Substituir pela sua chave aqui\n",
    "DEV_KEY = \"MLTL\"\n",
    "\n",
    "# json para ser enviado para o servidor\n",
    "data = {'dev_key':DEV_KEY,\n",
    "        'predictions':pd.Series(y_pred).to_json(orient='values')}\n",
    "\n",
    "# Enviando requisição e salvando o objeto resposta\n",
    "r = requests.post(url = URL, data = data)\n",
    "\n",
    "# Extraindo e imprimindo o texto da resposta\n",
    "pastebin_url = r.text\n",
    "print(\" - Resposta do servidor:\\n\", r.text, \"\\n\")\n"
   ]
  }
 ],
 "metadata": {
  "kernelspec": {
   "display_name": "Python 3",
   "language": "python",
   "name": "python3"
  },
  "language_info": {
   "codemirror_mode": {
    "name": "ipython",
    "version": 3
   },
   "file_extension": ".py",
   "mimetype": "text/x-python",
   "name": "python",
   "nbconvert_exporter": "python",
   "pygments_lexer": "ipython3",
   "version": "3.8.8"
  }
 },
 "nbformat": 4,
 "nbformat_minor": 5
}
